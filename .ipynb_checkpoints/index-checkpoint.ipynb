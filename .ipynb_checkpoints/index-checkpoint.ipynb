{
 "cells": [
  {
   "cell_type": "markdown",
   "metadata": {},
   "source": [
    "<h1 style='text-align:center'> Module 1 Assessment</h1>"
   ]
  },
  {
   "cell_type": "markdown",
   "metadata": {},
   "source": [
    "This assessment is designed to test your understanding of the Mod 1 material. It covers:\n",
    "\n",
    "* Python Fundamentals\n",
    "* Pandas and Numpy\n",
    "* Data Visualization\n",
    "* Exploring Statistical Data\n",
    "\n",
    "\n",
    "\n",
    "Read the instructions carefully. You will be asked both to write code and respond to a few short answer questions.\n",
    "\n",
    "#### Note on the short answer questions\n",
    "For the short answer questions _please use your own words_. The expectation is that you have **not** copied and pasted from an external source, even if you consult another source to help craft your response. While the short answer questions are not necessarily being assessed on grammatical correctness or sentence structure, do your best to communicate yourself clearly."
   ]
  },
  {
   "cell_type": "markdown",
   "metadata": {},
   "source": [
    "## Python Fundamentals"
   ]
  },
  {
   "cell_type": "markdown",
   "metadata": {},
   "source": [
    "In the first section, we will work with various Python data types and try to accomplish certain tasks using some Python fundamentals. Below, we've defined a dictionary with soccer player names as keys for nested dictionaries containing information about each players age, nationality, and a list of teams they have played for.   "
   ]
  },
  {
   "cell_type": "code",
   "execution_count": 1,
   "metadata": {},
   "outputs": [],
   "source": [
    "players = {\n",
    "\t'L. Messi': {\n",
    "\t\t'age': 31,\n",
    "\t\t'nationality': 'Argentina',\n",
    "\t\t'teams': ['Barcelona']\n",
    "\t},\n",
    "\t'Cristiano Ronaldo': {\n",
    "\t\t'age': 33,\n",
    "\t\t'nationality': 'Portugal',\n",
    "\t\t'teams': ['Juventus', 'Real Madrid', 'Manchester United']\n",
    "\t},\n",
    "\t'Neymar Jr': {\n",
    "\t\t'age': 26,\n",
    "\t\t'nationality': 'Brazil',\n",
    "\t\t'teams': ['Santos', 'Barcelona', 'Paris Saint-German']\n",
    "\t},\n",
    "\t'De Gea': {\n",
    "\t\t'age': 27,\n",
    "\t\t'nationality': 'Spain',\n",
    "\t\t'teams': ['Atletico Madrid', 'Manchester United']\n",
    "\t},\n",
    "\t'K. De Bruyne': {\n",
    "\t\t'age': 27,\n",
    "\t\t'nationality': 'Belgium',\n",
    "\t\t'teams': ['Chelsea', 'Manchester City']\n",
    "\t}\n",
    "}"
   ]
  },
  {
   "cell_type": "markdown",
   "metadata": {},
   "source": [
    "**1) Create a `list` of all the keys in the `players` dictionary. Use python's documentation on dictionaries for help if needed. Store the list of player names in a variable called `player_names` to use in the next question.**"
   ]
  },
  {
   "cell_type": "code",
   "execution_count": 3,
   "metadata": {},
   "outputs": [
    {
     "name": "stdout",
     "output_type": "stream",
     "text": [
      "dict_keys(['L. Messi', 'Cristiano Ronaldo', 'Neymar Jr', 'De Gea', 'K. De Bruyne'])\n"
     ]
    }
   ],
   "source": [
    "# Get the list of all player names from the dictionary\n",
    "player_names = players.keys()\n",
    "print(player_names)"
   ]
  },
  {
   "cell_type": "markdown",
   "metadata": {},
   "source": [
    "**2) Great! Now that we have each players name, let's use that information to create a `list` of `tuples` containing each player's name along with their nationality. Store the list in a variable called `player_nationalities`**"
   ]
  },
  {
   "cell_type": "code",
   "execution_count": 1,
   "metadata": {},
   "outputs": [],
   "source": [
    "# Generate list of tuples such that the first element in the tuple is \n",
    "\n",
    "\n",
    "# a players name and the second is their nationality \n",
    "\n",
    "\n",
    "# Ex: [('L. Messi', 'Argentina'), ('Christiano Ronaldo', 'Portugal'), ...]\n",
    "player_nationalities = [player_names, ]"
   ]
  },
  {
   "cell_type": "markdown",
   "metadata": {},
   "source": [
    "For questions 2:  I was not able to figure-out the for loop to go through the dictionary values for nationality.  This is what I started but couldn't figure-out the rest\n",
    "for person_n in dictionary.values():\n",
    "   if nationality == search_nationality\n",
    "   Name = dictionary[nationality]\n",
    "   print nationality"
   ]
  },
  {
   "cell_type": "markdown",
   "metadata": {},
   "source": [
    "**3) Now, define a function called `get_players_on_team` that returns a `list` of the names of all the players who have played on a given team.** \n",
    "\n",
    "Your function should take two arguments: \n",
    "* a dictionary of player information\n",
    "* a `string` of the team you are trying to find the players for \n",
    "\n",
    "**Be sure that your function has a `return` statement.**"
   ]
  },
  {
   "cell_type": "code",
   "execution_count": 4,
   "metadata": {},
   "outputs": [],
   "source": [
    "# Define your get_players_on_team function here.\n",
    "\n",
    "def get_players_on_team(name,team):\n",
    "    for i in name:\n",
    "        print(i)\n",
    "    for j in team:\n",
    "        print (j)\n",
    "        \n",
    "    return"
   ]
  },
  {
   "cell_type": "markdown",
   "metadata": {},
   "source": [
    "For above, I couldn't figure-out how to do all of the funcntion so thought that I would show my thought process of how to create it so you can help me with the parts that I don't understand at a later time"
   ]
  },
  {
   "cell_type": "code",
   "execution_count": null,
   "metadata": {},
   "outputs": [],
   "source": [
    "players_on_manchester_united = get_players_on_team(players,'Manchester United')"
   ]
  },
  {
   "cell_type": "markdown",
   "metadata": {},
   "source": [
    "## Pandas and Numpy"
   ]
  },
  {
   "cell_type": "markdown",
   "metadata": {},
   "source": [
    "In this section you will be doing some preprocessing and exploratory data analysis for a dataset for the videogame FIFA19 (https://www.kaggle.com/karangadiya/fifa19).  The dataset contains both data for the game as well as information about the players' real life careers.  "
   ]
  },
  {
   "cell_type": "markdown",
   "metadata": {},
   "source": [
    "**1) Read the CSV file into a pandas dataframe**\n",
    "\n",
    "The data you'll be working with is found in a file called './data/fifa.csv'.  Use your knowledge of pandas to create a new dataframe using the csv data. \n",
    "\n",
    "Check the contents of your dataframe with `df.head()`</b>"
   ]
  },
  {
   "cell_type": "code",
   "execution_count": 5,
   "metadata": {},
   "outputs": [],
   "source": [
    "import pandas as pd\n",
    "import numpy as np\n",
    "import warnings\n",
    "warnings.filterwarnings('ignore')"
   ]
  },
  {
   "cell_type": "code",
   "execution_count": 7,
   "metadata": {},
   "outputs": [
    {
     "data": {
      "text/html": [
       "<div>\n",
       "<style scoped>\n",
       "    .dataframe tbody tr th:only-of-type {\n",
       "        vertical-align: middle;\n",
       "    }\n",
       "\n",
       "    .dataframe tbody tr th {\n",
       "        vertical-align: top;\n",
       "    }\n",
       "\n",
       "    .dataframe thead th {\n",
       "        text-align: right;\n",
       "    }\n",
       "</style>\n",
       "<table border=\"1\" class=\"dataframe\">\n",
       "  <thead>\n",
       "    <tr style=\"text-align: right;\">\n",
       "      <th></th>\n",
       "      <th>Unnamed: 0</th>\n",
       "      <th>ID</th>\n",
       "      <th>Name</th>\n",
       "      <th>Age</th>\n",
       "      <th>Photo</th>\n",
       "      <th>Nationality</th>\n",
       "      <th>Flag</th>\n",
       "      <th>Overall</th>\n",
       "      <th>Potential</th>\n",
       "      <th>Club</th>\n",
       "      <th>...</th>\n",
       "      <th>Composure</th>\n",
       "      <th>Marking</th>\n",
       "      <th>StandingTackle</th>\n",
       "      <th>SlidingTackle</th>\n",
       "      <th>GKDiving</th>\n",
       "      <th>GKHandling</th>\n",
       "      <th>GKKicking</th>\n",
       "      <th>GKPositioning</th>\n",
       "      <th>GKReflexes</th>\n",
       "      <th>Release Clause</th>\n",
       "    </tr>\n",
       "  </thead>\n",
       "  <tbody>\n",
       "    <tr>\n",
       "      <th>0</th>\n",
       "      <td>0</td>\n",
       "      <td>158023</td>\n",
       "      <td>L. Messi</td>\n",
       "      <td>31</td>\n",
       "      <td>https://cdn.sofifa.org/players/4/19/158023.png</td>\n",
       "      <td>Argentina</td>\n",
       "      <td>https://cdn.sofifa.org/flags/52.png</td>\n",
       "      <td>94</td>\n",
       "      <td>94</td>\n",
       "      <td>FC Barcelona</td>\n",
       "      <td>...</td>\n",
       "      <td>96.0</td>\n",
       "      <td>33.0</td>\n",
       "      <td>28.0</td>\n",
       "      <td>26.0</td>\n",
       "      <td>6.0</td>\n",
       "      <td>11.0</td>\n",
       "      <td>15.0</td>\n",
       "      <td>14.0</td>\n",
       "      <td>8.0</td>\n",
       "      <td>226500.0</td>\n",
       "    </tr>\n",
       "    <tr>\n",
       "      <th>1</th>\n",
       "      <td>1</td>\n",
       "      <td>20801</td>\n",
       "      <td>Cristiano Ronaldo</td>\n",
       "      <td>33</td>\n",
       "      <td>https://cdn.sofifa.org/players/4/19/20801.png</td>\n",
       "      <td>Portugal</td>\n",
       "      <td>https://cdn.sofifa.org/flags/38.png</td>\n",
       "      <td>94</td>\n",
       "      <td>94</td>\n",
       "      <td>Juventus</td>\n",
       "      <td>...</td>\n",
       "      <td>95.0</td>\n",
       "      <td>28.0</td>\n",
       "      <td>31.0</td>\n",
       "      <td>23.0</td>\n",
       "      <td>7.0</td>\n",
       "      <td>11.0</td>\n",
       "      <td>15.0</td>\n",
       "      <td>14.0</td>\n",
       "      <td>11.0</td>\n",
       "      <td>127100.0</td>\n",
       "    </tr>\n",
       "    <tr>\n",
       "      <th>2</th>\n",
       "      <td>2</td>\n",
       "      <td>190871</td>\n",
       "      <td>Neymar Jr</td>\n",
       "      <td>26</td>\n",
       "      <td>https://cdn.sofifa.org/players/4/19/190871.png</td>\n",
       "      <td>Brazil</td>\n",
       "      <td>https://cdn.sofifa.org/flags/54.png</td>\n",
       "      <td>92</td>\n",
       "      <td>93</td>\n",
       "      <td>Paris Saint-Germain</td>\n",
       "      <td>...</td>\n",
       "      <td>94.0</td>\n",
       "      <td>27.0</td>\n",
       "      <td>24.0</td>\n",
       "      <td>33.0</td>\n",
       "      <td>9.0</td>\n",
       "      <td>9.0</td>\n",
       "      <td>15.0</td>\n",
       "      <td>15.0</td>\n",
       "      <td>11.0</td>\n",
       "      <td>228100.0</td>\n",
       "    </tr>\n",
       "    <tr>\n",
       "      <th>3</th>\n",
       "      <td>3</td>\n",
       "      <td>193080</td>\n",
       "      <td>De Gea</td>\n",
       "      <td>27</td>\n",
       "      <td>https://cdn.sofifa.org/players/4/19/193080.png</td>\n",
       "      <td>Spain</td>\n",
       "      <td>https://cdn.sofifa.org/flags/45.png</td>\n",
       "      <td>91</td>\n",
       "      <td>93</td>\n",
       "      <td>Manchester United</td>\n",
       "      <td>...</td>\n",
       "      <td>68.0</td>\n",
       "      <td>15.0</td>\n",
       "      <td>21.0</td>\n",
       "      <td>13.0</td>\n",
       "      <td>90.0</td>\n",
       "      <td>85.0</td>\n",
       "      <td>87.0</td>\n",
       "      <td>88.0</td>\n",
       "      <td>94.0</td>\n",
       "      <td>138600.0</td>\n",
       "    </tr>\n",
       "    <tr>\n",
       "      <th>4</th>\n",
       "      <td>4</td>\n",
       "      <td>192985</td>\n",
       "      <td>K. De Bruyne</td>\n",
       "      <td>27</td>\n",
       "      <td>https://cdn.sofifa.org/players/4/19/192985.png</td>\n",
       "      <td>Belgium</td>\n",
       "      <td>https://cdn.sofifa.org/flags/7.png</td>\n",
       "      <td>91</td>\n",
       "      <td>92</td>\n",
       "      <td>Manchester City</td>\n",
       "      <td>...</td>\n",
       "      <td>88.0</td>\n",
       "      <td>68.0</td>\n",
       "      <td>58.0</td>\n",
       "      <td>51.0</td>\n",
       "      <td>15.0</td>\n",
       "      <td>13.0</td>\n",
       "      <td>5.0</td>\n",
       "      <td>10.0</td>\n",
       "      <td>13.0</td>\n",
       "      <td>196400.0</td>\n",
       "    </tr>\n",
       "  </tbody>\n",
       "</table>\n",
       "<p>5 rows × 89 columns</p>\n",
       "</div>"
      ],
      "text/plain": [
       "   Unnamed: 0      ID               Name  Age  \\\n",
       "0           0  158023           L. Messi   31   \n",
       "1           1   20801  Cristiano Ronaldo   33   \n",
       "2           2  190871          Neymar Jr   26   \n",
       "3           3  193080             De Gea   27   \n",
       "4           4  192985       K. De Bruyne   27   \n",
       "\n",
       "                                            Photo Nationality  \\\n",
       "0  https://cdn.sofifa.org/players/4/19/158023.png   Argentina   \n",
       "1   https://cdn.sofifa.org/players/4/19/20801.png    Portugal   \n",
       "2  https://cdn.sofifa.org/players/4/19/190871.png      Brazil   \n",
       "3  https://cdn.sofifa.org/players/4/19/193080.png       Spain   \n",
       "4  https://cdn.sofifa.org/players/4/19/192985.png     Belgium   \n",
       "\n",
       "                                  Flag  Overall  Potential  \\\n",
       "0  https://cdn.sofifa.org/flags/52.png       94         94   \n",
       "1  https://cdn.sofifa.org/flags/38.png       94         94   \n",
       "2  https://cdn.sofifa.org/flags/54.png       92         93   \n",
       "3  https://cdn.sofifa.org/flags/45.png       91         93   \n",
       "4   https://cdn.sofifa.org/flags/7.png       91         92   \n",
       "\n",
       "                  Club  ... Composure Marking StandingTackle  SlidingTackle  \\\n",
       "0         FC Barcelona  ...      96.0    33.0           28.0           26.0   \n",
       "1             Juventus  ...      95.0    28.0           31.0           23.0   \n",
       "2  Paris Saint-Germain  ...      94.0    27.0           24.0           33.0   \n",
       "3    Manchester United  ...      68.0    15.0           21.0           13.0   \n",
       "4      Manchester City  ...      88.0    68.0           58.0           51.0   \n",
       "\n",
       "  GKDiving  GKHandling  GKKicking  GKPositioning GKReflexes Release Clause  \n",
       "0      6.0        11.0       15.0           14.0        8.0       226500.0  \n",
       "1      7.0        11.0       15.0           14.0       11.0       127100.0  \n",
       "2      9.0         9.0       15.0           15.0       11.0       228100.0  \n",
       "3     90.0        85.0       87.0           88.0       94.0       138600.0  \n",
       "4     15.0        13.0        5.0           10.0       13.0       196400.0  \n",
       "\n",
       "[5 rows x 89 columns]"
      ]
     },
     "execution_count": 7,
     "metadata": {},
     "output_type": "execute_result"
    }
   ],
   "source": [
    "df = pd.read_csv('./data/fifa.csv')\n",
    "df.head()"
   ]
  },
  {
   "cell_type": "markdown",
   "metadata": {},
   "source": [
    "**2) Check for duplicates**\n",
    "    \n",
    "**First, check how many columns and rows are in the dataset, then check how many unique values are in the \"ID\" column.**"
   ]
  },
  {
   "cell_type": "code",
   "execution_count": 10,
   "metadata": {},
   "outputs": [
    {
     "name": "stdout",
     "output_type": "stream",
     "text": [
      "<class 'pandas.core.frame.DataFrame'>\n",
      "RangeIndex: 20000 entries, 0 to 19999\n",
      "Data columns (total 89 columns):\n",
      "Unnamed: 0                  20000 non-null int64\n",
      "ID                          20000 non-null int64\n",
      "Name                        20000 non-null object\n",
      "Age                         20000 non-null int64\n",
      "Photo                       20000 non-null object\n",
      "Nationality                 20000 non-null object\n",
      "Flag                        20000 non-null object\n",
      "Overall                     20000 non-null int64\n",
      "Potential                   20000 non-null int64\n",
      "Club                        19739 non-null object\n",
      "Club Logo                   20000 non-null object\n",
      "Value                       20000 non-null object\n",
      "Wage                        20000 non-null object\n",
      "Special                     20000 non-null int64\n",
      "Preferred Foot              19952 non-null object\n",
      "International Reputation    19952 non-null float64\n",
      "Weak Foot                   19952 non-null float64\n",
      "Skill Moves                 19952 non-null float64\n",
      "Work Rate                   19952 non-null object\n",
      "Body Type                   19952 non-null object\n",
      "Real Face                   19952 non-null object\n",
      "Position                    19939 non-null object\n",
      "Jersey Number               19939 non-null float64\n",
      "Joined                      18284 non-null object\n",
      "Loaned From                 1407 non-null object\n",
      "Contract Valid Until        19691 non-null object\n",
      "Height                      19952 non-null object\n",
      "Weight                      19952 non-null object\n",
      "LS                          17759 non-null object\n",
      "ST                          17759 non-null object\n",
      "RS                          17759 non-null object\n",
      "LW                          17759 non-null object\n",
      "LF                          17759 non-null object\n",
      "CF                          17759 non-null object\n",
      "RF                          17759 non-null object\n",
      "RW                          17759 non-null object\n",
      "LAM                         17759 non-null object\n",
      "CAM                         17759 non-null object\n",
      "RAM                         17759 non-null object\n",
      "LM                          17759 non-null object\n",
      "LCM                         17759 non-null object\n",
      "CM                          17759 non-null object\n",
      "RCM                         17759 non-null object\n",
      "RM                          17759 non-null object\n",
      "LWB                         17759 non-null object\n",
      "LDM                         17759 non-null object\n",
      "CDM                         17759 non-null object\n",
      "RDM                         17759 non-null object\n",
      "RWB                         17759 non-null object\n",
      "LB                          17759 non-null object\n",
      "LCB                         17759 non-null object\n",
      "CB                          17759 non-null object\n",
      "RCB                         17759 non-null object\n",
      "RB                          17759 non-null object\n",
      "Crossing                    19952 non-null float64\n",
      "Finishing                   19952 non-null float64\n",
      "HeadingAccuracy             19952 non-null float64\n",
      "ShortPassing                19952 non-null float64\n",
      "Volleys                     19952 non-null float64\n",
      "Dribbling                   19952 non-null float64\n",
      "Curve                       19952 non-null float64\n",
      "FKAccuracy                  19952 non-null float64\n",
      "LongPassing                 19952 non-null float64\n",
      "BallControl                 19952 non-null float64\n",
      "Acceleration                19952 non-null float64\n",
      "SprintSpeed                 19952 non-null float64\n",
      "Agility                     19952 non-null float64\n",
      "Reactions                   19952 non-null float64\n",
      "Balance                     19952 non-null float64\n",
      "ShotPower                   19952 non-null float64\n",
      "Jumping                     19952 non-null float64\n",
      "Stamina                     19952 non-null float64\n",
      "Strength                    19952 non-null float64\n",
      "LongShots                   19952 non-null float64\n",
      "Aggression                  19952 non-null float64\n",
      "Interceptions               19952 non-null float64\n",
      "Positioning                 19952 non-null float64\n",
      "Vision                      19952 non-null float64\n",
      "Penalties                   19952 non-null float64\n",
      "Composure                   19952 non-null float64\n",
      "Marking                     19952 non-null float64\n",
      "StandingTackle              19952 non-null float64\n",
      "SlidingTackle               19952 non-null float64\n",
      "GKDiving                    19952 non-null float64\n",
      "GKHandling                  19952 non-null float64\n",
      "GKKicking                   19952 non-null float64\n",
      "GKPositioning               19952 non-null float64\n",
      "GKReflexes                  19952 non-null float64\n",
      "Release Clause              18273 non-null float64\n",
      "dtypes: float64(39), int64(6), object(44)\n",
      "memory usage: 13.6+ MB\n"
     ]
    },
    {
     "data": {
      "text/plain": [
       "array([158023,  20801, 190871, ..., 241638, 246268, 246269])"
      ]
     },
     "execution_count": 10,
     "metadata": {},
     "output_type": "execute_result"
    }
   ],
   "source": [
    "# code here to see the size of the dataframe\n",
    "df.info()\n",
    "\n"
   ]
  },
  {
   "cell_type": "code",
   "execution_count": null,
   "metadata": {},
   "outputs": [],
   "source": [
    "# code here to check number of unique ids\n"
   ]
  },
  {
   "cell_type": "markdown",
   "metadata": {},
   "source": [
    "<b> 3) Drop Duplicates\n",
    "    \n",
    "It looks like there are duplicates.  Get rid of them by dropping duplicate rows. After you have dropped them, see how many rows are remaining.</b>"
   ]
  },
  {
   "cell_type": "code",
   "execution_count": 11,
   "metadata": {},
   "outputs": [
    {
     "data": {
      "text/plain": [
       "array([158023,  20801, 190871, ..., 241638, 246268, 246269])"
      ]
     },
     "execution_count": 11,
     "metadata": {},
     "output_type": "execute_result"
    }
   ],
   "source": [
    "# code here\n",
    "df.ID.unique()"
   ]
  },
  {
   "cell_type": "code",
   "execution_count": null,
   "metadata": {},
   "outputs": [],
   "source": [
    "# now see how many rows there are\n"
   ]
  },
  {
   "cell_type": "markdown",
   "metadata": {},
   "source": [
    "<b> 4. Drop n/a rows for \"Release Clause\"\n",
    "    \n",
    "Drop rows for which \"Release Clause\" is none or not given. This is part of a soccer player's contract dealing with being bought out by another team. After you have dropped them, see how many rows are remaining.</b>"
   ]
  },
  {
   "cell_type": "code",
   "execution_count": 16,
   "metadata": {},
   "outputs": [
    {
     "data": {
      "text/plain": [
       "0        226500.0\n",
       "1        127100.0\n",
       "2        228100.0\n",
       "3        138600.0\n",
       "4        196400.0\n",
       "5        172100.0\n",
       "6        137400.0\n",
       "7        164000.0\n",
       "8        104600.0\n",
       "9        144500.0\n",
       "10       127100.0\n",
       "11       156800.0\n",
       "12        90200.0\n",
       "13       111000.0\n",
       "14       121300.0\n",
       "15       153500.0\n",
       "16       160700.0\n",
       "17       165800.0\n",
       "18       123300.0\n",
       "19       113700.0\n",
       "20       105600.0\n",
       "21       111000.0\n",
       "22        62700.0\n",
       "23       119300.0\n",
       "24        44600.0\n",
       "25       166100.0\n",
       "26       137300.0\n",
       "27       126400.0\n",
       "29       105400.0\n",
       "30       156200.0\n",
       "           ...   \n",
       "19969     78000.0\n",
       "19970    193000.0\n",
       "19971     94000.0\n",
       "19972    119000.0\n",
       "19973     78000.0\n",
       "19974    109000.0\n",
       "19975    101000.0\n",
       "19977     78000.0\n",
       "19978     88000.0\n",
       "19979    167000.0\n",
       "19980     66000.0\n",
       "19981    143000.0\n",
       "19982    125000.0\n",
       "19983    165000.0\n",
       "19984    119000.0\n",
       "19985    119000.0\n",
       "19986     99000.0\n",
       "19987    109000.0\n",
       "19988    153000.0\n",
       "19989    113000.0\n",
       "19990     88000.0\n",
       "19991    165000.0\n",
       "19992    175000.0\n",
       "19993    143000.0\n",
       "19994    153000.0\n",
       "19995    143000.0\n",
       "19996    113000.0\n",
       "19997    165000.0\n",
       "19998    143000.0\n",
       "19999    165000.0\n",
       "Name: Release Clause, Length: 18273, dtype: float64"
      ]
     },
     "execution_count": 16,
     "metadata": {},
     "output_type": "execute_result"
    }
   ],
   "source": [
    "# code here to drop n/a rows\n",
    "\n",
    "# Release Clause\n",
    "\n",
    "df['Release Clause'].dropna()\n"
   ]
  },
  {
   "cell_type": "code",
   "execution_count": 19,
   "metadata": {},
   "outputs": [
    {
     "name": "stdout",
     "output_type": "stream",
     "text": [
      "<class 'pandas.core.frame.DataFrame'>\n",
      "RangeIndex: 20000 entries, 0 to 19999\n",
      "Data columns (total 89 columns):\n",
      "Unnamed: 0                  20000 non-null int64\n",
      "ID                          20000 non-null int64\n",
      "Name                        20000 non-null object\n",
      "Age                         20000 non-null int64\n",
      "Photo                       20000 non-null object\n",
      "Nationality                 20000 non-null object\n",
      "Flag                        20000 non-null object\n",
      "Overall                     20000 non-null int64\n",
      "Potential                   20000 non-null int64\n",
      "Club                        19739 non-null object\n",
      "Club Logo                   20000 non-null object\n",
      "Value                       20000 non-null object\n",
      "Wage                        20000 non-null object\n",
      "Special                     20000 non-null int64\n",
      "Preferred Foot              19952 non-null object\n",
      "International Reputation    19952 non-null float64\n",
      "Weak Foot                   19952 non-null float64\n",
      "Skill Moves                 19952 non-null float64\n",
      "Work Rate                   19952 non-null object\n",
      "Body Type                   19952 non-null object\n",
      "Real Face                   19952 non-null object\n",
      "Position                    19939 non-null object\n",
      "Jersey Number               19939 non-null float64\n",
      "Joined                      18284 non-null object\n",
      "Loaned From                 1407 non-null object\n",
      "Contract Valid Until        19691 non-null object\n",
      "Height                      19952 non-null object\n",
      "Weight                      19952 non-null object\n",
      "LS                          17759 non-null object\n",
      "ST                          17759 non-null object\n",
      "RS                          17759 non-null object\n",
      "LW                          17759 non-null object\n",
      "LF                          17759 non-null object\n",
      "CF                          17759 non-null object\n",
      "RF                          17759 non-null object\n",
      "RW                          17759 non-null object\n",
      "LAM                         17759 non-null object\n",
      "CAM                         17759 non-null object\n",
      "RAM                         17759 non-null object\n",
      "LM                          17759 non-null object\n",
      "LCM                         17759 non-null object\n",
      "CM                          17759 non-null object\n",
      "RCM                         17759 non-null object\n",
      "RM                          17759 non-null object\n",
      "LWB                         17759 non-null object\n",
      "LDM                         17759 non-null object\n",
      "CDM                         17759 non-null object\n",
      "RDM                         17759 non-null object\n",
      "RWB                         17759 non-null object\n",
      "LB                          17759 non-null object\n",
      "LCB                         17759 non-null object\n",
      "CB                          17759 non-null object\n",
      "RCB                         17759 non-null object\n",
      "RB                          17759 non-null object\n",
      "Crossing                    19952 non-null float64\n",
      "Finishing                   19952 non-null float64\n",
      "HeadingAccuracy             19952 non-null float64\n",
      "ShortPassing                19952 non-null float64\n",
      "Volleys                     19952 non-null float64\n",
      "Dribbling                   19952 non-null float64\n",
      "Curve                       19952 non-null float64\n",
      "FKAccuracy                  19952 non-null float64\n",
      "LongPassing                 19952 non-null float64\n",
      "BallControl                 19952 non-null float64\n",
      "Acceleration                19952 non-null float64\n",
      "SprintSpeed                 19952 non-null float64\n",
      "Agility                     19952 non-null float64\n",
      "Reactions                   19952 non-null float64\n",
      "Balance                     19952 non-null float64\n",
      "ShotPower                   19952 non-null float64\n",
      "Jumping                     19952 non-null float64\n",
      "Stamina                     19952 non-null float64\n",
      "Strength                    19952 non-null float64\n",
      "LongShots                   19952 non-null float64\n",
      "Aggression                  19952 non-null float64\n",
      "Interceptions               19952 non-null float64\n",
      "Positioning                 19952 non-null float64\n",
      "Vision                      19952 non-null float64\n",
      "Penalties                   19952 non-null float64\n",
      "Composure                   19952 non-null float64\n",
      "Marking                     19952 non-null float64\n",
      "StandingTackle              19952 non-null float64\n",
      "SlidingTackle               19952 non-null float64\n",
      "GKDiving                    19952 non-null float64\n",
      "GKHandling                  19952 non-null float64\n",
      "GKKicking                   19952 non-null float64\n",
      "GKPositioning               19952 non-null float64\n",
      "GKReflexes                  19952 non-null float64\n",
      "Release Clause              18273 non-null float64\n",
      "dtypes: float64(39), int64(6), object(44)\n",
      "memory usage: 13.6+ MB\n"
     ]
    }
   ],
   "source": [
    "# now check how many rows are left \n",
    "df.info()"
   ]
  },
  {
   "cell_type": "markdown",
   "metadata": {},
   "source": [
    "<b> 5) Convert players' heights to inches. Replace the original height column.\n",
    "First create a function, then use it on your dataframe. Create a function that convert a string into a integer and then apply that function to all of the height column.</b>"
   ]
  },
  {
   "cell_type": "code",
   "execution_count": null,
   "metadata": {},
   "outputs": [],
   "source": [
    "# code here to write a helper function\n",
    "def convert_height(height):\n",
    "    '''\n",
    "    inputs: height (string)\n",
    "    ----\n",
    "    returns: height in inches (int)\n",
    "    '''\n",
    "    pass"
   ]
  },
  {
   "cell_type": "code",
   "execution_count": null,
   "metadata": {},
   "outputs": [],
   "source": [
    "# test here\n",
    "convert_height(\"5'7\")"
   ]
  },
  {
   "cell_type": "code",
   "execution_count": null,
   "metadata": {},
   "outputs": [],
   "source": [
    "# code here to use the function on the height column\n"
   ]
  },
  {
   "cell_type": "markdown",
   "metadata": {},
   "source": [
    "## Data Visualization"
   ]
  },
  {
   "cell_type": "markdown",
   "metadata": {},
   "source": [
    "<b> 1) Make a histogram of players age\n",
    "    \n",
    "_Add a title and x axis label._ Use whichever plotting library you are most comfortable with. </b>"
   ]
  },
  {
   "cell_type": "code",
   "execution_count": 24,
   "metadata": {},
   "outputs": [],
   "source": [
    "import matplotlib.pyplot as plt\n",
    "import seaborn as sns\n",
    "%matplotlib inline"
   ]
  },
  {
   "cell_type": "code",
   "execution_count": 23,
   "metadata": {},
   "outputs": [
    {
     "data": {
      "text/plain": [
       "(array([ 0.,  0.,  0.,  0.,  0.,  0.,  0.,  0.,  0.,  0.,  0.,  0.,  0.,\n",
       "         0.,  0.,  0.,  0.,  0.,  0.,  0.,  0.,  0.,  0.,  0.,  0., 50.,\n",
       "         0.,  0.,  0.,  0.,  0.,  0.,  0.,  0.,  0.,  0.,  0.,  0.,  0.,\n",
       "         0.,  0.,  0.,  0.,  0.,  0.,  0.,  0.,  0.,  0.,  0.]),\n",
       " array([-0.5 , -0.48, -0.46, -0.44, -0.42, -0.4 , -0.38, -0.36, -0.34,\n",
       "        -0.32, -0.3 , -0.28, -0.26, -0.24, -0.22, -0.2 , -0.18, -0.16,\n",
       "        -0.14, -0.12, -0.1 , -0.08, -0.06, -0.04, -0.02,  0.  ,  0.02,\n",
       "         0.04,  0.06,  0.08,  0.1 ,  0.12,  0.14,  0.16,  0.18,  0.2 ,\n",
       "         0.22,  0.24,  0.26,  0.28,  0.3 ,  0.32,  0.34,  0.36,  0.38,\n",
       "         0.4 ,  0.42,  0.44,  0.46,  0.48,  0.5 ]),\n",
       " <a list of 50 Patch objects>)"
      ]
     },
     "execution_count": 23,
     "metadata": {},
     "output_type": "execute_result"
    },
    {
     "data": {
      "image/png": "[encoded data removed]",
      "text/plain": [
       "<Figure size 432x288 with 1 Axes>"
      ]
     },
     "metadata": {
      "needs_background": "light"
     },
     "output_type": "display_data"
    }
   ],
   "source": [
    "# histogram\n",
    "plt.hist('players age', bins=50, normed=True)\n"
   ]
  },
  {
   "cell_type": "markdown",
   "metadata": {},
   "source": [
    "<b> 2) Make a bar chart for the 10 countries with the most players (by nationality)</b>\n",
    "\n",
    "Make sure to include x labels on your chart!"
   ]
  },
  {
   "cell_type": "code",
   "execution_count": 28,
   "metadata": {},
   "outputs": [
    {
     "data": {
      "text/plain": [
       "Text(0.5, 0, 'Nationality')"
      ]
     },
     "execution_count": 28,
     "metadata": {},
     "output_type": "execute_result"
    },
    {
     "data": {
      "image/png": "[encoded data removed]",
      "text/plain": [
       "<Figure size 432x288 with 1 Axes>"
      ]
     },
     "metadata": {
      "needs_background": "light"
     },
     "output_type": "display_data"
    }
   ],
   "source": [
    "# code here to get the top 10 countries with the most players\n",
    "\n",
    "plt.bar('Nationality' , height=50, align='center')\n",
    "plt.xlabel('Nationality')\n"
   ]
  },
  {
   "cell_type": "markdown",
   "metadata": {},
   "source": [
    "for above, not sure of the question so started to give ex of how to create bar chart but I know that I am missing a value.  Ugh.  "
   ]
  },
  {
   "cell_type": "code",
   "execution_count": null,
   "metadata": {},
   "outputs": [],
   "source": [
    "# code here to plot a bar chart\n",
    "plt.subplots(figsize=(10,6))\n"
   ]
  },
  {
   "cell_type": "markdown",
   "metadata": {},
   "source": [
    "<b> 3) Make a scatter plot for the player stats StandingTackle and SlidingTackle\n",
    "\n",
    "What can we say about these two features? </b>"
   ]
  },
  {
   "cell_type": "code",
   "execution_count": 32,
   "metadata": {},
   "outputs": [
    {
     "data": {
      "text/plain": [
       "<matplotlib.collections.PathCollection at 0x126adef28>"
      ]
     },
     "execution_count": 32,
     "metadata": {},
     "output_type": "execute_result"
    },
    {
     "data": {
      "image/png": "[encoded data removed]",
      "text/plain": [
       "<Figure size 432x288 with 1 Axes>"
      ]
     },
     "metadata": {
      "needs_background": "light"
     },
     "output_type": "display_data"
    }
   ],
   "source": [
    "# code here to plot a scatterplot\n",
    "\n",
    "plt.scatter(df.StandingTackle, df.SlidingTackle, Label ='Player Stats')"
   ]
  },
  {
   "cell_type": "markdown",
   "metadata": {},
   "source": [
    "  "
   ]
  },
  {
   "cell_type": "code",
   "execution_count": null,
   "metadata": {},
   "outputs": [],
   "source": [
    "# Your written answer here \n",
    "\n",
    "# . StandingTackle and SLidingTacle are symmetrical so performance is realy about the same for each action."
   ]
  },
  {
   "cell_type": "markdown",
   "metadata": {},
   "source": [
    "### Exploring Statistical Data"
   ]
  },
  {
   "cell_type": "markdown",
   "metadata": {},
   "source": [
    "We'll continue using the same FIFA 2019 dataset.  This section will assess your ability to use numpy and work with summary statistics."
   ]
  },
  {
   "cell_type": "markdown",
   "metadata": {},
   "source": [
    "<b>1) Convert the Release Clause Price from Euros to Dollars\n",
    "    \n",
    "Create a new column that has the 'release_clause' in dollars.\n",
    "\n",
    "1.2 Dollars = 1 Euro.</b>"
   ]
  },
  {
   "cell_type": "code",
   "execution_count": null,
   "metadata": {},
   "outputs": [],
   "source": [
    "# code here to convert the column of euros to dollarss"
   ]
  },
  {
   "cell_type": "markdown",
   "metadata": {},
   "source": [
    "<b>2) Get summary statistics for all numeric columns\n",
    "    \n",
    "(Please don't do each column individually!)</b>"
   ]
  },
  {
   "cell_type": "code",
   "execution_count": 36,
   "metadata": {},
   "outputs": [
    {
     "data": {
      "text/html": [
       "<div>\n",
       "<style scoped>\n",
       "    .dataframe tbody tr th:only-of-type {\n",
       "        vertical-align: middle;\n",
       "    }\n",
       "\n",
       "    .dataframe tbody tr th {\n",
       "        vertical-align: top;\n",
       "    }\n",
       "\n",
       "    .dataframe thead th {\n",
       "        text-align: right;\n",
       "    }\n",
       "</style>\n",
       "<table border=\"1\" class=\"dataframe\">\n",
       "  <thead>\n",
       "    <tr style=\"text-align: right;\">\n",
       "      <th></th>\n",
       "      <th>Unnamed: 0</th>\n",
       "      <th>ID</th>\n",
       "      <th>Age</th>\n",
       "      <th>Overall</th>\n",
       "      <th>Potential</th>\n",
       "      <th>Special</th>\n",
       "      <th>International Reputation</th>\n",
       "      <th>Weak Foot</th>\n",
       "      <th>Skill Moves</th>\n",
       "      <th>Jersey Number</th>\n",
       "      <th>...</th>\n",
       "      <th>Composure</th>\n",
       "      <th>Marking</th>\n",
       "      <th>StandingTackle</th>\n",
       "      <th>SlidingTackle</th>\n",
       "      <th>GKDiving</th>\n",
       "      <th>GKHandling</th>\n",
       "      <th>GKKicking</th>\n",
       "      <th>GKPositioning</th>\n",
       "      <th>GKReflexes</th>\n",
       "      <th>Release Clause</th>\n",
       "    </tr>\n",
       "  </thead>\n",
       "  <tbody>\n",
       "    <tr>\n",
       "      <th>count</th>\n",
       "      <td>20000.000000</td>\n",
       "      <td>20000.000000</td>\n",
       "      <td>20000.00000</td>\n",
       "      <td>20000.00000</td>\n",
       "      <td>20000.000000</td>\n",
       "      <td>20000.000000</td>\n",
       "      <td>19952.000000</td>\n",
       "      <td>19952.000000</td>\n",
       "      <td>19952.000000</td>\n",
       "      <td>19939.000000</td>\n",
       "      <td>...</td>\n",
       "      <td>19952.000000</td>\n",
       "      <td>19952.000000</td>\n",
       "      <td>19952.000000</td>\n",
       "      <td>19952.000000</td>\n",
       "      <td>19952.000000</td>\n",
       "      <td>19952.000000</td>\n",
       "      <td>19952.000000</td>\n",
       "      <td>19952.000000</td>\n",
       "      <td>19952.000000</td>\n",
       "      <td>18273.000000</td>\n",
       "    </tr>\n",
       "    <tr>\n",
       "      <th>mean</th>\n",
       "      <td>4999.500000</td>\n",
       "      <td>214056.958950</td>\n",
       "      <td>25.19545</td>\n",
       "      <td>66.24150</td>\n",
       "      <td>71.208150</td>\n",
       "      <td>1599.703850</td>\n",
       "      <td>1.103498</td>\n",
       "      <td>2.948025</td>\n",
       "      <td>2.365076</td>\n",
       "      <td>19.385726</td>\n",
       "      <td>...</td>\n",
       "      <td>58.685696</td>\n",
       "      <td>47.422063</td>\n",
       "      <td>47.806736</td>\n",
       "      <td>45.757117</td>\n",
       "      <td>16.513984</td>\n",
       "      <td>16.285184</td>\n",
       "      <td>16.131165</td>\n",
       "      <td>16.294457</td>\n",
       "      <td>16.600491</td>\n",
       "      <td>231391.862146</td>\n",
       "    </tr>\n",
       "    <tr>\n",
       "      <th>std</th>\n",
       "      <td>2886.823503</td>\n",
       "      <td>29835.144399</td>\n",
       "      <td>4.64711</td>\n",
       "      <td>6.59385</td>\n",
       "      <td>6.010926</td>\n",
       "      <td>267.341782</td>\n",
       "      <td>0.377774</td>\n",
       "      <td>0.659637</td>\n",
       "      <td>0.749276</td>\n",
       "      <td>15.846335</td>\n",
       "      <td>...</td>\n",
       "      <td>11.138706</td>\n",
       "      <td>19.757021</td>\n",
       "      <td>21.521219</td>\n",
       "      <td>21.160479</td>\n",
       "      <td>17.550120</td>\n",
       "      <td>16.777458</td>\n",
       "      <td>16.376668</td>\n",
       "      <td>16.912982</td>\n",
       "      <td>17.820566</td>\n",
       "      <td>305836.410351</td>\n",
       "    </tr>\n",
       "    <tr>\n",
       "      <th>min</th>\n",
       "      <td>0.000000</td>\n",
       "      <td>16.000000</td>\n",
       "      <td>16.00000</td>\n",
       "      <td>46.00000</td>\n",
       "      <td>48.000000</td>\n",
       "      <td>731.000000</td>\n",
       "      <td>1.000000</td>\n",
       "      <td>1.000000</td>\n",
       "      <td>1.000000</td>\n",
       "      <td>1.000000</td>\n",
       "      <td>...</td>\n",
       "      <td>3.000000</td>\n",
       "      <td>3.000000</td>\n",
       "      <td>2.000000</td>\n",
       "      <td>3.000000</td>\n",
       "      <td>1.000000</td>\n",
       "      <td>1.000000</td>\n",
       "      <td>1.000000</td>\n",
       "      <td>1.000000</td>\n",
       "      <td>1.000000</td>\n",
       "      <td>1000.000000</td>\n",
       "    </tr>\n",
       "    <tr>\n",
       "      <th>25%</th>\n",
       "      <td>2499.750000</td>\n",
       "      <td>200277.250000</td>\n",
       "      <td>21.00000</td>\n",
       "      <td>62.00000</td>\n",
       "      <td>67.000000</td>\n",
       "      <td>1466.000000</td>\n",
       "      <td>1.000000</td>\n",
       "      <td>3.000000</td>\n",
       "      <td>2.000000</td>\n",
       "      <td>8.000000</td>\n",
       "      <td>...</td>\n",
       "      <td>52.000000</td>\n",
       "      <td>30.000000</td>\n",
       "      <td>27.000000</td>\n",
       "      <td>24.000000</td>\n",
       "      <td>8.000000</td>\n",
       "      <td>8.000000</td>\n",
       "      <td>8.000000</td>\n",
       "      <td>8.000000</td>\n",
       "      <td>8.000000</td>\n",
       "      <td>2100.000000</td>\n",
       "    </tr>\n",
       "    <tr>\n",
       "      <th>50%</th>\n",
       "      <td>4999.500000</td>\n",
       "      <td>221481.500000</td>\n",
       "      <td>25.00000</td>\n",
       "      <td>66.00000</td>\n",
       "      <td>71.000000</td>\n",
       "      <td>1641.000000</td>\n",
       "      <td>1.000000</td>\n",
       "      <td>3.000000</td>\n",
       "      <td>2.000000</td>\n",
       "      <td>17.000000</td>\n",
       "      <td>...</td>\n",
       "      <td>60.000000</td>\n",
       "      <td>53.000000</td>\n",
       "      <td>55.000000</td>\n",
       "      <td>52.000000</td>\n",
       "      <td>11.000000</td>\n",
       "      <td>11.000000</td>\n",
       "      <td>11.000000</td>\n",
       "      <td>11.000000</td>\n",
       "      <td>11.000000</td>\n",
       "      <td>17300.000000</td>\n",
       "    </tr>\n",
       "    <tr>\n",
       "      <th>75%</th>\n",
       "      <td>7499.250000</td>\n",
       "      <td>236037.250000</td>\n",
       "      <td>28.00000</td>\n",
       "      <td>70.00000</td>\n",
       "      <td>75.000000</td>\n",
       "      <td>1781.000000</td>\n",
       "      <td>1.000000</td>\n",
       "      <td>3.000000</td>\n",
       "      <td>3.000000</td>\n",
       "      <td>26.000000</td>\n",
       "      <td>...</td>\n",
       "      <td>66.000000</td>\n",
       "      <td>64.000000</td>\n",
       "      <td>66.000000</td>\n",
       "      <td>64.000000</td>\n",
       "      <td>14.000000</td>\n",
       "      <td>14.000000</td>\n",
       "      <td>14.000000</td>\n",
       "      <td>14.000000</td>\n",
       "      <td>14.000000</td>\n",
       "      <td>439000.000000</td>\n",
       "    </tr>\n",
       "    <tr>\n",
       "      <th>max</th>\n",
       "      <td>9999.000000</td>\n",
       "      <td>246620.000000</td>\n",
       "      <td>45.00000</td>\n",
       "      <td>94.00000</td>\n",
       "      <td>95.000000</td>\n",
       "      <td>2346.000000</td>\n",
       "      <td>5.000000</td>\n",
       "      <td>5.000000</td>\n",
       "      <td>5.000000</td>\n",
       "      <td>99.000000</td>\n",
       "      <td>...</td>\n",
       "      <td>96.000000</td>\n",
       "      <td>94.000000</td>\n",
       "      <td>93.000000</td>\n",
       "      <td>91.000000</td>\n",
       "      <td>90.000000</td>\n",
       "      <td>92.000000</td>\n",
       "      <td>91.000000</td>\n",
       "      <td>90.000000</td>\n",
       "      <td>94.000000</td>\n",
       "      <td>999000.000000</td>\n",
       "    </tr>\n",
       "  </tbody>\n",
       "</table>\n",
       "<p>8 rows × 45 columns</p>\n",
       "</div>"
      ],
      "text/plain": [
       "         Unnamed: 0             ID          Age      Overall     Potential  \\\n",
       "count  20000.000000   20000.000000  20000.00000  20000.00000  20000.000000   \n",
       "mean    4999.500000  214056.958950     25.19545     66.24150     71.208150   \n",
       "std     2886.823503   29835.144399      4.64711      6.59385      6.010926   \n",
       "min        0.000000      16.000000     16.00000     46.00000     48.000000   \n",
       "25%     2499.750000  200277.250000     21.00000     62.00000     67.000000   \n",
       "50%     4999.500000  221481.500000     25.00000     66.00000     71.000000   \n",
       "75%     7499.250000  236037.250000     28.00000     70.00000     75.000000   \n",
       "max     9999.000000  246620.000000     45.00000     94.00000     95.000000   \n",
       "\n",
       "            Special  International Reputation     Weak Foot   Skill Moves  \\\n",
       "count  20000.000000              19952.000000  19952.000000  19952.000000   \n",
       "mean    1599.703850                  1.103498      2.948025      2.365076   \n",
       "std      267.341782                  0.377774      0.659637      0.749276   \n",
       "min      731.000000                  1.000000      1.000000      1.000000   \n",
       "25%     1466.000000                  1.000000      3.000000      2.000000   \n",
       "50%     1641.000000                  1.000000      3.000000      2.000000   \n",
       "75%     1781.000000                  1.000000      3.000000      3.000000   \n",
       "max     2346.000000                  5.000000      5.000000      5.000000   \n",
       "\n",
       "       Jersey Number  ...     Composure       Marking  StandingTackle  \\\n",
       "count   19939.000000  ...  19952.000000  19952.000000    19952.000000   \n",
       "mean       19.385726  ...     58.685696     47.422063       47.806736   \n",
       "std        15.846335  ...     11.138706     19.757021       21.521219   \n",
       "min         1.000000  ...      3.000000      3.000000        2.000000   \n",
       "25%         8.000000  ...     52.000000     30.000000       27.000000   \n",
       "50%        17.000000  ...     60.000000     53.000000       55.000000   \n",
       "75%        26.000000  ...     66.000000     64.000000       66.000000   \n",
       "max        99.000000  ...     96.000000     94.000000       93.000000   \n",
       "\n",
       "       SlidingTackle      GKDiving    GKHandling     GKKicking  GKPositioning  \\\n",
       "count   19952.000000  19952.000000  19952.000000  19952.000000   19952.000000   \n",
       "mean       45.757117     16.513984     16.285184     16.131165      16.294457   \n",
       "std        21.160479     17.550120     16.777458     16.376668      16.912982   \n",
       "min         3.000000      1.000000      1.000000      1.000000       1.000000   \n",
       "25%        24.000000      8.000000      8.000000      8.000000       8.000000   \n",
       "50%        52.000000     11.000000     11.000000     11.000000      11.000000   \n",
       "75%        64.000000     14.000000     14.000000     14.000000      14.000000   \n",
       "max        91.000000     90.000000     92.000000     91.000000      90.000000   \n",
       "\n",
       "         GKReflexes  Release Clause  \n",
       "count  19952.000000    18273.000000  \n",
       "mean      16.600491   231391.862146  \n",
       "std       17.820566   305836.410351  \n",
       "min        1.000000     1000.000000  \n",
       "25%        8.000000     2100.000000  \n",
       "50%       11.000000    17300.000000  \n",
       "75%       14.000000   439000.000000  \n",
       "max       94.000000   999000.000000  \n",
       "\n",
       "[8 rows x 45 columns]"
      ]
     },
     "execution_count": 36,
     "metadata": {},
     "output_type": "execute_result"
    }
   ],
   "source": [
    "# code here\n",
    "df.describe()\n"
   ]
  },
  {
   "cell_type": "markdown",
   "metadata": {},
   "source": [
    "<b>3) What is the mean age and the median age for the players in this dataset?  How are the mean and median related to each other?</b>"
   ]
  },
  {
   "cell_type": "code",
   "execution_count": 39,
   "metadata": {},
   "outputs": [
    {
     "data": {
      "text/plain": [
       "25.0"
      ]
     },
     "execution_count": 39,
     "metadata": {},
     "output_type": "execute_result"
    }
   ],
   "source": [
    "# code here\n",
    "df['Age'].mean()\n",
    "df['Age'].median()"
   ]
  },
  {
   "cell_type": "markdown",
   "metadata": {},
   "source": [
    "I think that you wanting definitions of mean and median.  I'm not sure.  Mean is the average and median is the middle number in a list"
   ]
  },
  {
   "cell_type": "markdown",
   "metadata": {},
   "source": [
    "#### 4) Who is the oldest player in Argentina and how old is he?  "
   ]
  },
  {
   "cell_type": "code",
   "execution_count": 40,
   "metadata": {},
   "outputs": [
    {
     "data": {
      "text/plain": [
       "45"
      ]
     },
     "execution_count": 40,
     "metadata": {},
     "output_type": "execute_result"
    }
   ],
   "source": [
    "# code here\n",
    "df['Age'].max()"
   ]
  },
  {
   "cell_type": "code",
   "execution_count": null,
   "metadata": {},
   "outputs": [],
   "source": [
    "# I couldn't figure-out how to get the person's name with code. \n",
    "\n"
   ]
  },
  {
   "cell_type": "markdown",
   "metadata": {},
   "source": []
  }
 ],
 "metadata": {
  "kernelspec": {
   "display_name": "Python 3",
   "language": "python",
   "name": "python3"
  },
  "language_info": {
   "codemirror_mode": {
    "name": "ipython",
    "version": 3
   },
   "file_extension": ".py",
   "mimetype": "text/x-python",
   "name": "python",
   "nbconvert_exporter": "python",
   "pygments_lexer": "ipython3",
   "version": "3.7.3"
  }
 },
 "nbformat": 4,
 "nbformat_minor": 2
}
